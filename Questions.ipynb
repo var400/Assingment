{
 "cells": [
  {
   "cell_type": "code",
   "execution_count": 19,
   "id": "0a7860b5",
   "metadata": {},
   "outputs": [
    {
     "name": "stdout",
     "output_type": "stream",
     "text": [
      "total number of trips is : 10906\n"
     ]
    }
   ],
   "source": [
    "####Qustion 1\n",
    "import pandas as pd\n",
    "summary_transaction = pd.read_csv('summary_transaction.csv')\n",
    "print ('total number of trips is :',summary_transaction[summary_transaction.columns[0]].count())\n"
   ]
  },
  {
   "cell_type": "code",
   "execution_count": 43,
   "id": "79bd8aa8",
   "metadata": {},
   "outputs": [
    {
     "name": "stdout",
     "output_type": "stream",
     "text": [
      "the most number of provinces : 12\n"
     ]
    }
   ],
   "source": [
    "####Qustion 2\n",
    "import pandas as pd\n",
    "summary_transaction = pd.read_csv('summary_transaction.csv')\n",
    "summary_transaction['count_province'] = summary_transaction['province_list'].str.count(',') + 1\n",
    "#count_province['count'].max()\n",
    "print(\"the most number of provinces :\", summary_transaction['count_province'].max())"
   ]
  },
  {
   "cell_type": "code",
   "execution_count": 89,
   "id": "099be15f",
   "metadata": {},
   "outputs": [
    {
     "name": "stderr",
     "output_type": "stream",
     "text": [
      "C:\\Users\\var_m\\AppData\\Local\\Temp\\ipykernel_14184\\30978007.py:5: SettingWithCopyWarning: \n",
      "A value is trying to be set on a copy of a slice from a DataFrame.\n",
      "Try using .loc[row_indexer,col_indexer] = value instead\n",
      "\n",
      "See the caveats in the documentation: https://pandas.pydata.org/pandas-docs/stable/user_guide/indexing.html#returning-a-view-versus-a-copy\n",
      "  summary_transaction_2['province'] = summary_transaction_2['province_list'].str.split(',')\n",
      "C:\\Users\\var_m\\AppData\\Local\\Temp\\ipykernel_14184\\30978007.py:13: SettingWithCopyWarning: \n",
      "A value is trying to be set on a copy of a slice from a DataFrame.\n",
      "Try using .loc[row_indexer,col_indexer] = value instead\n",
      "\n",
      "See the caveats in the documentation: https://pandas.pydata.org/pandas-docs/stable/user_guide/indexing.html#returning-a-view-versus-a-copy\n",
      "  summary_transaction_7['most_popular'] = summary_transaction_7['province_x'] + '-' + summary_transaction_7['province_y'].astype(str)\n"
     ]
    },
    {
     "data": {
      "text/html": [
       "<div>\n",
       "<style scoped>\n",
       "    .dataframe tbody tr th:only-of-type {\n",
       "        vertical-align: middle;\n",
       "    }\n",
       "\n",
       "    .dataframe tbody tr th {\n",
       "        vertical-align: top;\n",
       "    }\n",
       "\n",
       "    .dataframe thead th {\n",
       "        text-align: right;\n",
       "    }\n",
       "</style>\n",
       "<table border=\"1\" class=\"dataframe\">\n",
       "  <thead>\n",
       "    <tr style=\"text-align: right;\">\n",
       "      <th></th>\n",
       "      <th>most_popular</th>\n",
       "      <th>Count</th>\n",
       "    </tr>\n",
       "  </thead>\n",
       "  <tbody>\n",
       "    <tr>\n",
       "      <th>0</th>\n",
       "      <td>Pathum Thani-Bangkok</td>\n",
       "      <td>382</td>\n",
       "    </tr>\n",
       "    <tr>\n",
       "      <th>1</th>\n",
       "      <td>Bangkok- Pathum Thani</td>\n",
       "      <td>382</td>\n",
       "    </tr>\n",
       "  </tbody>\n",
       "</table>\n",
       "</div>"
      ],
      "text/plain": [
       "            most_popular  Count\n",
       "0   Pathum Thani-Bangkok    382\n",
       "1  Bangkok- Pathum Thani    382"
      ]
     },
     "execution_count": 89,
     "metadata": {},
     "output_type": "execute_result"
    }
   ],
   "source": [
    "####Qustion 3\n",
    "import pandas as pd\n",
    "summary_transaction = pd.read_csv('summary_transaction.csv')\n",
    "#summary_transaction = summary_transaction[summary_transaction['user_id'].isin([1, 5])]\n",
    "summary_transaction_2 = summary_transaction[['Trip_id','province_list']]\n",
    "summary_transaction_2['province'] = summary_transaction_2['province_list'].str.split(',')\n",
    "summary_transaction_3 = summary_transaction_2.explode('province')s\n",
    "summary_transaction_3.drop(columns=['province_list'], inplace=True) \n",
    "summary_transaction_4 = pd.merge(summary_transaction_3, summary_transaction_3, on='Trip_id', how='left')\n",
    "summary_transaction_5 = summary_transaction_4.loc[summary_transaction_4['province_x'] != summary_transaction_4['province_y']]\n",
    "summary_transaction_6 = summary_transaction_5.groupby(['province_x', 'province_y']).size().reset_index(name='Count')\n",
    "max_count = summary_transaction_6['Count'].max()\n",
    "summary_transaction_7 = summary_transaction_6[summary_transaction_6['Count'] == max_count]\n",
    "summary_transaction_7['most_popular'] = summary_transaction_7['province_x'] + '-' + summary_transaction_7['province_y'].astype(str)\n",
    "summary_transaction_7[['most_popular','Count']].reset_index(drop=True)"
   ]
  }
 ],
 "metadata": {
  "kernelspec": {
   "display_name": "Python 3 (ipykernel)",
   "language": "python",
   "name": "python3"
  },
  "language_info": {
   "codemirror_mode": {
    "name": "ipython",
    "version": 3
   },
   "file_extension": ".py",
   "mimetype": "text/x-python",
   "name": "python",
   "nbconvert_exporter": "python",
   "pygments_lexer": "ipython3",
   "version": "3.11.5"
  }
 },
 "nbformat": 4,
 "nbformat_minor": 5
}
