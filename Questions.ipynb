{
 "cells": [
  {
   "cell_type": "code",
   "execution_count": 19,
   "id": "0a7860b5",
   "metadata": {},
   "outputs": [
    {
     "name": "stdout",
     "output_type": "stream",
     "text": [
      "total number of trips is : 10906\n"
     ]
    }
   ],
   "source": [
    "####Qustion 1\n",
    "import pandas as pd\n",
    "summary_transaction = pd.read_csv('summary_transaction.csv')\n",
    "print ('total number of trips is :',summary_transaction[summary_transaction.columns[0]].count())\n"
   ]
  },
  {
   "cell_type": "code",
   "execution_count": 43,
   "id": "79bd8aa8",
   "metadata": {},
   "outputs": [
    {
     "name": "stdout",
     "output_type": "stream",
     "text": [
      "the most number of provinces : 12\n"
     ]
    }
   ],
   "source": [
    "####Qustion 2\n",
    "import pandas as pd\n",
    "summary_transaction = pd.read_csv('summary_transaction.csv')\n",
    "summary_transaction['count_province'] = summary_transaction['province_list'].str.count(',') + 1\n",
    "#count_province['count'].max()\n",
    "print(\"the most number of provinces :\", summary_transaction['count_province'].max())"
   ]
  },
  {
   "cell_type": "code",
   "execution_count": null,
   "id": "117bf114",
   "metadata": {},
   "outputs": [],
   "source": [
    "####Qustion 3\n",
    "import pandas as pd\n",
    "summary_transaction = pd.read_csv('summary_transaction.csv')"
   ]
  },
  {
   "cell_type": "code",
   "execution_count": 45,
   "id": "e5ad2cbd",
   "metadata": {},
   "outputs": [
    {
     "name": "stdout",
     "output_type": "stream",
     "text": [
      "Most common province pairs:\n",
      "Province_Pair\n",
      "B-A    2\n",
      "A-B    1\n",
      "A-C    1\n",
      "C-B    1\n",
      "Name: count, dtype: int64\n"
     ]
    }
   ],
   "source": [
    "import pandas as pd\n",
    "\n",
    "# Sample DataFrame (Replace this with your actual DataFrame)\n",
    "data = {\n",
    "    'Origin_Province': ['A', 'B', 'A', 'C', 'B'],\n",
    "    'Destination_Province': ['B', 'A', 'C', 'B', 'A']\n",
    "}\n",
    "\n",
    "df = pd.DataFrame(data)\n",
    "\n",
    "# Creating a new column combining both origin and destination provinces\n",
    "df['Province_Pair'] = df['Origin_Province'] + '-' + df['Destination_Province']\n",
    "\n",
    "# Counting occurrences of each province pair\n",
    "province_pair_counts = df['Province_Pair'].value_counts()\n",
    "\n",
    "# Displaying the most common province pairs\n",
    "most_common_pairs = province_pair_counts.head(10)  # Adjust the number as needed\n",
    "print(\"Most common province pairs:\")\n",
    "print(most_common_pairs)"
   ]
  }
 ],
 "metadata": {
  "kernelspec": {
   "display_name": "Python 3 (ipykernel)",
   "language": "python",
   "name": "python3"
  },
  "language_info": {
   "codemirror_mode": {
    "name": "ipython",
    "version": 3
   },
   "file_extension": ".py",
   "mimetype": "text/x-python",
   "name": "python",
   "nbconvert_exporter": "python",
   "pygments_lexer": "ipython3",
   "version": "3.11.5"
  }
 },
 "nbformat": 4,
 "nbformat_minor": 5
}
